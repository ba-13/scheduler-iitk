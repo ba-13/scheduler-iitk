{
 "cells": [
  {
   "cell_type": "code",
   "execution_count": 1,
   "metadata": {},
   "outputs": [
    {
     "name": "stdout",
     "output_type": "stream",
     "text": [
      "83\n"
     ]
    }
   ],
   "source": [
    "import PyPDF2\n",
    "import re\n",
    "import random\n",
    "\n",
    "# creating a pdf reader object\n",
    "reader = PyPDF2.PdfReader(\"./Course_Schedule_2023-24-2.pdf\")\n",
    "\n",
    "# print the number of pages in pdf file\n",
    "print(len(reader.pages))\n",
    "\n",
    "entries = []\n",
    "for page in reader.pages:\n",
    "    entries.append(page.extract_text())"
   ]
  },
  {
   "cell_type": "code",
   "execution_count": 2,
   "metadata": {},
   "outputs": [
    {
     "name": "stdout",
     "output_type": "stream",
     "text": [
      " Course Schedule/ Classroom Allocation: 2023 -24/2 Semester                                                  [*This is a dynamic list. It will get updated as and when departments propose changes.]   Page 6 of 83 19-Jan-24 5:04:35 PM  S.No. Branch Course Name/Group Name  Slot Name Units(Credits) Course Type  Instructor  Instructor Email  Discussion Schedule  Tutorial Schedule  Practical Schedule singhappu@iitk.ac.in (O)  (BSBE SR) 15:00 -16:00  42 BSBE  BIOINFORMATICS & COMPUTATIONAL BIOLOGY(BSE322)  SLOT -4-4 3-0-0-0(9) DC / REGULAR  NITIN GUPTA(I)  guptan@iitk.ac.in (I) M (L01) Th (L01) 12:00 -13:15    43 BSBE  BIOINFORMATICS & COMPUTATIONAL BIOLOGY(BSE322A)  SLOT -4-4 3-0-0-1(10)  PRF / REGULAR  NITIN GUPTA(I)  guptan@iitk.ac.in (I) M (L01) Th (L01) 12:00 -13:15    44 BSBE  UG PROJECT (UGP -II)(BSE399A)  SLOT - Blank  0-0-2-0(9) UGP -2 / REGULAR  DUGCBSBE (I)  dugc_bsbe@iitk.ac.in (I)     45 BSBE  TISSUE ENGINEERING(BSE421A)  OE-1 3-0-0-2(11)  DE,PRF / REGULAR  DHIRENDRA S KATTI(I)  dsk@iitk.ac.in (I)  M (L12) W (L12) F (L12) 09:00 -10:00    46 BSBE  UNDER GRADUATE PROJECT IV(BSE499A)  SLOT - Blank  0-0-0-0(9) UGP -4 / REGULAR  DUGCBSBE (I)  dugc_bsbe@iitk.ac.in (I)     47 BSBE  LABORATORY METHODS(BSE602)  SLOT - Blank  0-0-2-0(0) PRF / REGULAR  DPGCBSBE (I)  dpgc_bsbe@iitk.ac.in (I)     48 BSBE  BIOCHEMICAL ENGINEERING(BSE612)  CORE 10-2 3-0-0-0(9) DE,PRF / REGULAR  ASHOK KUMAR (I)  ashokkum@iitk.ac.in (I)  M (BSBE SR) F (BSBE SR) 10:00 -11:00 ,T (BSBE SR) 18:00 -19:00    49 BSBE  TISSUE ENGINEERING(BSE614)  PG-7 3-0-0-0(11)  DE,PRF / REGULAR  Santosh Misra(I)  skmisra@iitk.ac.in (I) M (BSBE SR) W (BSBE SR) F (BSBE SR) 09:00 -10:00    50 BSBE  BIOPHARMACEUTICALS(BSE616)  DE-2 3-0-0-0(9) DE,PRF,OE,DC / REGULAR  ASHWANI KUMAR THAKUR (I), Sai Pydi(O)  akthakur@iitk.ac.in (I), pydi@iitk.ac.in (O)  T 10:30 -11:45 ,Th 12:00 -13:15    \n"
     ]
    }
   ],
   "source": [
    "print(entries[5].replace(\"\\n\", \"\"))"
   ]
  },
  {
   "cell_type": "code",
   "execution_count": 4,
   "metadata": {},
   "outputs": [],
   "source": [
    "number_match = re.compile(r'\\n(\\d+\\s[A-Z].+?(?=\\n\\d+\\s[A-Z]|\\Z))', re.DOTALL)"
   ]
  },
  {
   "cell_type": "code",
   "execution_count": 5,
   "metadata": {},
   "outputs": [],
   "source": [
    "courses_raw = []\n",
    "for entry in entries:\n",
    "    courses_raw.extend(number_match.findall(entry))"
   ]
  },
  {
   "cell_type": "code",
   "execution_count": 6,
   "metadata": {},
   "outputs": [],
   "source": [
    "re_split_course_instructor = re.compile(r\"\\d+-\\d+-\\d+-\\d+\")\n",
    "re_split_course_timing = re.compile(r\"ac.in\\s*\\([IO]\\),*\\s+(?=[A-Z]|$)\", re.DOTALL)\n",
    "re_find_timings = re.compile(r\"(.+?)(\\d\\d:\\d\\d)\\s*-\\s*(\\d\\d:\\d\\d)\")\n",
    "re_find_days = re.compile(r\"(Th|M|T|W|F)\")\n",
    "re_find_course_details = re.compile(r\"^(\\d+)\\s+([A-Z]+)\\s+(.*?)\\(([A-Z]+\\d+[A-Z]*)\\)\")\n",
    "re_split_professors = re.compile(r\",\\s+\")\n",
    "re_split_types = re.compile(r\"([A-Za-z0-9]+)\")"
   ]
  },
  {
   "cell_type": "code",
   "execution_count": 7,
   "metadata": {},
   "outputs": [],
   "source": [
    "def remove_nested_parens(input_str):\n",
    "    result = \"\"\n",
    "    paren_level = 0\n",
    "    for ch in input_str:\n",
    "        if ch == \"(\":\n",
    "            paren_level += 1\n",
    "        elif (ch == \")\") and paren_level:\n",
    "            paren_level -= 1\n",
    "        elif not paren_level:\n",
    "            result += ch\n",
    "    return result\n",
    "\n",
    "\n",
    "def seperate_timetable(input_str: str):\n",
    "    global err_count\n",
    "    try:\n",
    "        rest_time_split = re_split_course_timing.split(input_str)\n",
    "        course, timing = rest_time_split[0], rest_time_split[1].strip()\n",
    "        course += \"iitk.ac.in\"\n",
    "    except IndexError as err:\n",
    "        raise IndexError(f\"Could not seperate timetable {rest_time_split}: {err}\")\n",
    "    timing_slots = re_find_timings.findall(timing)\n",
    "    timings = []\n",
    "    for t, s, e in timing_slots:\n",
    "        t = remove_nested_parens(t)\n",
    "        days = set(re_find_days.findall(t))\n",
    "        for day in days:\n",
    "            timings.append(f\"{day} {s}-{e}\")\n",
    "    if len(timings) == 0:\n",
    "        err_count -= 1\n",
    "        raise ValueError(f\"No timings found for {course}, skipping\")\n",
    "    return course, timings\n",
    "\n",
    "\n",
    "def seperate_course_details(input_str: str):\n",
    "    try:\n",
    "        ci_split = re_split_course_instructor.split(input_str)\n",
    "        course, instr = ci_split[0], ci_split[1]\n",
    "    except IndexError as err:\n",
    "        raise IndexError(f\"Could not seperate course-instructor {input_str}: {err}\")\n",
    "    course_details = re_find_course_details.search(course).groups()\n",
    "    assert len(course_details) == 4\n",
    "    instr_split = re.split(r\"\\s\\s+\", instr)\n",
    "    assert len(instr_split) >= 3\n",
    "    credit = re.search(r\"\\((\\d+)\\)\", instr_split[0]).groups()[0]\n",
    "    credit = int(credit)\n",
    "    return course_details, instr_split, credit"
   ]
  },
  {
   "cell_type": "code",
   "execution_count": 17,
   "metadata": {},
   "outputs": [],
   "source": [
    "course = courses_raw[18]"
   ]
  },
  {
   "cell_type": "code",
   "execution_count": 18,
   "metadata": {},
   "outputs": [
    {
     "data": {
      "text/plain": [
       "'19 AE SPACE DYNAMICS -I(AE641)  PG-5 3-0-0-0(9) DE / REGULAR  ASHISH TIWARI (I)  ashtew@iitk.ac.in (I) T (DJAC(206H)) 10:30 -11:45 ,Th (DJAC(206H)) 12:00 -13:15    '"
      ]
     },
     "execution_count": 18,
     "metadata": {},
     "output_type": "execute_result"
    }
   ],
   "source": [
    "course = course.replace(\"\\n\", \"\")\n",
    "course"
   ]
  },
  {
   "cell_type": "code",
   "execution_count": 19,
   "metadata": {},
   "outputs": [],
   "source": [
    "crs, time = seperate_timetable(course)"
   ]
  },
  {
   "cell_type": "code",
   "execution_count": 20,
   "metadata": {},
   "outputs": [
    {
     "data": {
      "text/plain": [
       "('19 AE SPACE DYNAMICS -I(AE641)  PG-5 3-0-0-0(9) DE / REGULAR  ASHISH TIWARI (I)  ashtew@iitk.iitk.ac.in',\n",
       " ['T 10:30-11:45', 'Th 12:00-13:15'])"
      ]
     },
     "execution_count": 20,
     "metadata": {},
     "output_type": "execute_result"
    }
   ],
   "source": [
    "crs, time"
   ]
  },
  {
   "cell_type": "code",
   "execution_count": 21,
   "metadata": {},
   "outputs": [],
   "source": [
    "try:\n",
    "    ci_split = re_split_course_instructor.split(crs)\n",
    "    course, instr = ci_split[0], ci_split[1]\n",
    "except IndexError as err:\n",
    "    raise IndexError(f\"Could not seperate course-instructor {crs}: {err}\")"
   ]
  },
  {
   "cell_type": "code",
   "execution_count": 22,
   "metadata": {},
   "outputs": [
    {
     "data": {
      "text/plain": [
       "('19 AE SPACE DYNAMICS -I(AE641)  PG-5 ',\n",
       " '(9) DE / REGULAR  ASHISH TIWARI (I)  ashtew@iitk.iitk.ac.in')"
      ]
     },
     "execution_count": 22,
     "metadata": {},
     "output_type": "execute_result"
    }
   ],
   "source": [
    "course, instr"
   ]
  },
  {
   "cell_type": "code",
   "execution_count": 25,
   "metadata": {},
   "outputs": [],
   "source": [
    "course_details = re.search(\n",
    "    r\"^(\\d+)\\s+([A-Z]+)\\s+(.*?)\\(([A-Z]+\\d+[A-Z]*)\\)\", \n",
    "    course).groups()\n",
    "assert len(course_details) == 4\n",
    "instr_split = re.split(r\"\\s\\s+\", instr)\n",
    "assert len(instr_split) >= 3\n",
    "credit = re.search(r\"\\((\\d+)\\)\", instr_split[0]).groups()[0]\n",
    "credit = int(credit)"
   ]
  },
  {
   "cell_type": "code",
   "execution_count": 26,
   "metadata": {},
   "outputs": [
    {
     "data": {
      "text/plain": [
       "(('19', 'AE', 'SPACE DYNAMICS -I', 'AE641'),\n",
       " ['(9) DE / REGULAR', 'ASHISH TIWARI (I)', 'ashtew@iitk.iitk.ac.in'],\n",
       " 9)"
      ]
     },
     "execution_count": 26,
     "metadata": {},
     "output_type": "execute_result"
    }
   ],
   "source": [
    "course_details, instr_split, credit"
   ]
  }
 ],
 "metadata": {
  "kernelspec": {
   "display_name": "Python 3",
   "language": "python",
   "name": "python3"
  },
  "language_info": {
   "codemirror_mode": {
    "name": "ipython",
    "version": 3
   },
   "file_extension": ".py",
   "mimetype": "text/x-python",
   "name": "python",
   "nbconvert_exporter": "python",
   "pygments_lexer": "ipython3",
   "version": "3.8.10"
  }
 },
 "nbformat": 4,
 "nbformat_minor": 2
}
